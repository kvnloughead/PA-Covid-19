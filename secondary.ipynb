{
 "nbformat": 4,
 "nbformat_minor": 2,
 "metadata": {
  "language_info": {
   "name": "python",
   "codemirror_mode": {
    "name": "ipython",
    "version": 3
   }
  },
  "orig_nbformat": 2,
  "file_extension": ".py",
  "mimetype": "text/x-python",
  "name": "python",
  "npconvert_exporter": "python",
  "pygments_lexer": "ipython3",
  "version": 3
 },
 "cells": [
  {
   "cell_type": "code",
   "execution_count": null,
   "metadata": {},
   "outputs": [],
   "source": []
  },
  {
   "cell_type": "markdown",
   "metadata": {},
   "source": [
    "Now, I am curious as to how closely these two numbers correspond. One way to find out would be to consider the how the rates of change themselves are changing. Thus"
   ]
  },
  {
   "cell_type": "code",
   "execution_count": null,
   "metadata": {},
   "outputs": [],
   "source": [
    "cases_growth_rate_change = [(p / q) - 1 for p, q in zip(nominal_growth_rate[:-1], nominal_growth_rate[1:])]\n",
    "cases_growth_rate_change.append(np.nan)\n",
    "\n",
    "tests_growth_rate_change = [(p / q) - 1 for p, q in zip(testing_growth_rate[:-1], testing_growth_rate[1:])]\n",
    "tests_growth_rate_change.append(np.nan)\n",
    "\n",
    "df['cases_rate_change'] = cases_growth_rate_change\n",
    "df['tests_rate_change'] = tests_growth_rate_change"
   ]
  },
  {
   "cell_type": "code",
   "execution_count": null,
   "metadata": {},
   "outputs": [],
   "source": [
    "df2 = df[['negatives', 'positives', 'new_cases', \n",
    "           'nominal_growth_rate', 'testing_growth_rate',\n",
    "           'cases_rate_change', \"tests_rate_change\"]]\n",
    "\n",
    "df2"
   ]
  }
 ]
}