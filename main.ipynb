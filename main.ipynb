{
 "nbformat": 4,
 "nbformat_minor": 2,
 "metadata": {
  "language_info": {
   "name": "python",
   "codemirror_mode": {
    "name": "ipython",
    "version": 3
   },
   "version": "3.6.9-final"
  },
  "orig_nbformat": 2,
  "file_extension": ".py",
  "mimetype": "text/x-python",
  "name": "python",
  "npconvert_exporter": "python",
  "pygments_lexer": "ipython3",
  "version": 3,
  "kernelspec": {
   "name": "python36964bit6b30643bb62e45469d4db21b9a9dcb62",
   "display_name": "Python 3.6.9 64-bit"
  }
 },
 "cells": [
  {
   "cell_type": "code",
   "execution_count": 69,
   "metadata": {},
   "outputs": [],
   "source": [
    "import sys\n",
    "\n",
    "sys.path.append('parse_website.py')\n",
    "sys.path.append('analyze.py')"
   ]
  },
  {
   "cell_type": "code",
   "execution_count": 70,
   "metadata": {},
   "outputs": [],
   "source": [
    "import numpy as np\n",
    "import pandas as pd\n",
    "from tabulate import tabulate\n",
    "\n",
    "import parse_website as p\n",
    "import analyze as a\n",
    ""
   ]
  },
  {
   "cell_type": "markdown",
   "metadata": {},
   "source": [
    "\n",
    "# Pennsylvania Covid-19 Testing and New Cases Growth Rates\n",
    "\n",
    "### An exploration of the relationship between reported rates growth in Covid-19 cases and the corresponding rates of growth in tests performed.\n",
    "\n",
    "The last few days have seen stories in the news reporting an apparent slowing in the growth rates of new Covid-19 cases in Pennsylvania, and in the USA at large for that matter.  Officials have all levels of government have spoken of it _(find some links)_, and some have gone so far as to claim that _[paraphrasing, find quote]\"we are no longer experiencing exponential growth\"._   Of course, we have seen temporary dips in cases [before](cite Italy, maybe New York?), and most officials are careful to emphasize that this data is preliminary and uncertain and that we must therefore continue with our rigorous social distance and lockdown policies.  But I wondered whether these claims of reductions in growth rates, however qualified and tentative they may be, might not in fact be illusory:  whether they might not be a function of a reduction in _testing_, rather than of reduction in spread of the disease itself."
   ]
  },
  {
   "cell_type": "markdown",
   "metadata": {},
   "source": [
    "In order to see if my hypothesis held water, I wrote a Python program to scrape the [PA Coronavirus Update Archive](https://www.health.pa.gov/topics/disease/coronavirus/Pages/Archives.aspx), which keeps a daily record of the number of negative test results, positive test results, and deaths due to Covid-19 in Pennsylvania (among other data).  I couldn't find a proper dataset, so I wrote a program in Python to scrape the web page for the last couple of weeks of relevant data, which can be found in `parse_website.py` (imported as `p`).  Here is the compiled data."
   ]
  },
  {
   "cell_type": "code",
   "execution_count": 71,
   "metadata": {},
   "outputs": [
    {
     "output_type": "execute_result",
     "data": {
      "text/plain": "    negatives  positives  deaths\n0       76719      14559     240\n1       70874      12980     162\n2       66261      11510     150\n3       60013      10017     136\n4       53695       8420     102\n5       47698       7016      90\n6       42427       5805      74\n7       37645       4843      63\n8       33777       4087      48\n9       30061       3394      38\n10      25254       2751      34\n11      21016       2218      22\n12      16441       1687      16\n13      11193       1127      11\n14       8643        851       7\n15       6595        644       6\n16       4964        479       2",
      "text/html": "<div>\n<style scoped>\n    .dataframe tbody tr th:only-of-type {\n        vertical-align: middle;\n    }\n\n    .dataframe tbody tr th {\n        vertical-align: top;\n    }\n\n    .dataframe thead th {\n        text-align: right;\n    }\n</style>\n<table border=\"1\" class=\"dataframe\">\n  <thead>\n    <tr style=\"text-align: right;\">\n      <th></th>\n      <th>negatives</th>\n      <th>positives</th>\n      <th>deaths</th>\n    </tr>\n  </thead>\n  <tbody>\n    <tr>\n      <th>0</th>\n      <td>76719</td>\n      <td>14559</td>\n      <td>240</td>\n    </tr>\n    <tr>\n      <th>1</th>\n      <td>70874</td>\n      <td>12980</td>\n      <td>162</td>\n    </tr>\n    <tr>\n      <th>2</th>\n      <td>66261</td>\n      <td>11510</td>\n      <td>150</td>\n    </tr>\n    <tr>\n      <th>3</th>\n      <td>60013</td>\n      <td>10017</td>\n      <td>136</td>\n    </tr>\n    <tr>\n      <th>4</th>\n      <td>53695</td>\n      <td>8420</td>\n      <td>102</td>\n    </tr>\n    <tr>\n      <th>5</th>\n      <td>47698</td>\n      <td>7016</td>\n      <td>90</td>\n    </tr>\n    <tr>\n      <th>6</th>\n      <td>42427</td>\n      <td>5805</td>\n      <td>74</td>\n    </tr>\n    <tr>\n      <th>7</th>\n      <td>37645</td>\n      <td>4843</td>\n      <td>63</td>\n    </tr>\n    <tr>\n      <th>8</th>\n      <td>33777</td>\n      <td>4087</td>\n      <td>48</td>\n    </tr>\n    <tr>\n      <th>9</th>\n      <td>30061</td>\n      <td>3394</td>\n      <td>38</td>\n    </tr>\n    <tr>\n      <th>10</th>\n      <td>25254</td>\n      <td>2751</td>\n      <td>34</td>\n    </tr>\n    <tr>\n      <th>11</th>\n      <td>21016</td>\n      <td>2218</td>\n      <td>22</td>\n    </tr>\n    <tr>\n      <th>12</th>\n      <td>16441</td>\n      <td>1687</td>\n      <td>16</td>\n    </tr>\n    <tr>\n      <th>13</th>\n      <td>11193</td>\n      <td>1127</td>\n      <td>11</td>\n    </tr>\n    <tr>\n      <th>14</th>\n      <td>8643</td>\n      <td>851</td>\n      <td>7</td>\n    </tr>\n    <tr>\n      <th>15</th>\n      <td>6595</td>\n      <td>644</td>\n      <td>6</td>\n    </tr>\n    <tr>\n      <th>16</th>\n      <td>4964</td>\n      <td>479</td>\n      <td>2</td>\n    </tr>\n  </tbody>\n</table>\n</div>"
     },
     "metadata": {},
     "execution_count": 71
    }
   ],
   "source": [
    "data = {'negatives': np.array(p.negative_tests), \n",
    "        'positives': np.array(p.positive_tests), \n",
    "        'deaths': np.array(p.deaths)}\n",
    "df = pd.DataFrame(data)\n",
    "df"
   ]
  },
  {
   "cell_type": "markdown",
   "metadata": {},
   "source": [
    "One piece of critical information is the rate of positives, which can be calculated by"
   ]
  },
  {
   "cell_type": "code",
   "execution_count": 72,
   "metadata": {},
   "outputs": [
    {
     "output_type": "execute_result",
     "data": {
      "text/plain": "    negatives  positives  deaths  positive_rate\n0       76719      14559     240       0.159502\n1       70874      12980     162       0.154793\n2       66261      11510     150       0.147999\n3       60013      10017     136       0.143039\n4       53695       8420     102       0.135555\n5       47698       7016      90       0.128230\n6       42427       5805      74       0.120356\n7       37645       4843      63       0.113985\n8       33777       4087      48       0.107939\n9       30061       3394      38       0.101450\n10      25254       2751      34       0.098232\n11      21016       2218      22       0.095464\n12      16441       1687      16       0.093060\n13      11193       1127      11       0.091477\n14       8643        851       7       0.089636\n15       6595        644       6       0.088963\n16       4964        479       2       0.088003",
      "text/html": "<div>\n<style scoped>\n    .dataframe tbody tr th:only-of-type {\n        vertical-align: middle;\n    }\n\n    .dataframe tbody tr th {\n        vertical-align: top;\n    }\n\n    .dataframe thead th {\n        text-align: right;\n    }\n</style>\n<table border=\"1\" class=\"dataframe\">\n  <thead>\n    <tr style=\"text-align: right;\">\n      <th></th>\n      <th>negatives</th>\n      <th>positives</th>\n      <th>deaths</th>\n      <th>positive_rate</th>\n    </tr>\n  </thead>\n  <tbody>\n    <tr>\n      <th>0</th>\n      <td>76719</td>\n      <td>14559</td>\n      <td>240</td>\n      <td>0.159502</td>\n    </tr>\n    <tr>\n      <th>1</th>\n      <td>70874</td>\n      <td>12980</td>\n      <td>162</td>\n      <td>0.154793</td>\n    </tr>\n    <tr>\n      <th>2</th>\n      <td>66261</td>\n      <td>11510</td>\n      <td>150</td>\n      <td>0.147999</td>\n    </tr>\n    <tr>\n      <th>3</th>\n      <td>60013</td>\n      <td>10017</td>\n      <td>136</td>\n      <td>0.143039</td>\n    </tr>\n    <tr>\n      <th>4</th>\n      <td>53695</td>\n      <td>8420</td>\n      <td>102</td>\n      <td>0.135555</td>\n    </tr>\n    <tr>\n      <th>5</th>\n      <td>47698</td>\n      <td>7016</td>\n      <td>90</td>\n      <td>0.128230</td>\n    </tr>\n    <tr>\n      <th>6</th>\n      <td>42427</td>\n      <td>5805</td>\n      <td>74</td>\n      <td>0.120356</td>\n    </tr>\n    <tr>\n      <th>7</th>\n      <td>37645</td>\n      <td>4843</td>\n      <td>63</td>\n      <td>0.113985</td>\n    </tr>\n    <tr>\n      <th>8</th>\n      <td>33777</td>\n      <td>4087</td>\n      <td>48</td>\n      <td>0.107939</td>\n    </tr>\n    <tr>\n      <th>9</th>\n      <td>30061</td>\n      <td>3394</td>\n      <td>38</td>\n      <td>0.101450</td>\n    </tr>\n    <tr>\n      <th>10</th>\n      <td>25254</td>\n      <td>2751</td>\n      <td>34</td>\n      <td>0.098232</td>\n    </tr>\n    <tr>\n      <th>11</th>\n      <td>21016</td>\n      <td>2218</td>\n      <td>22</td>\n      <td>0.095464</td>\n    </tr>\n    <tr>\n      <th>12</th>\n      <td>16441</td>\n      <td>1687</td>\n      <td>16</td>\n      <td>0.093060</td>\n    </tr>\n    <tr>\n      <th>13</th>\n      <td>11193</td>\n      <td>1127</td>\n      <td>11</td>\n      <td>0.091477</td>\n    </tr>\n    <tr>\n      <th>14</th>\n      <td>8643</td>\n      <td>851</td>\n      <td>7</td>\n      <td>0.089636</td>\n    </tr>\n    <tr>\n      <th>15</th>\n      <td>6595</td>\n      <td>644</td>\n      <td>6</td>\n      <td>0.088963</td>\n    </tr>\n    <tr>\n      <th>16</th>\n      <td>4964</td>\n      <td>479</td>\n      <td>2</td>\n      <td>0.088003</td>\n    </tr>\n  </tbody>\n</table>\n</div>"
     },
     "metadata": {},
     "execution_count": 72
    }
   ],
   "source": [
    "rate_of_positive = data['positives']/(data['negatives'] + data['positives'])\n",
    "df['positive_rate'] = rate_of_positive\n",
    "df"
   ]
  },
  {
   "cell_type": "markdown",
   "metadata": {},
   "source": [
    "The trend here is quite clear, if not particularly dramatic.   We will also want to know the daily tally of new cases.  We could make the same calculation for new deaths each day, but for now we will focus on cases.  Note the appending of a single `np.nan` to fill out this column.   \n",
    "The trend here is quite clear, if not particularly dramatic.   We will also want to know the daily tally of new cases.  We could make the same calculation for new deaths each day, but for now we will focus on cases. \n"
   ]
  },
  {
   "cell_type": "code",
   "execution_count": 73,
   "metadata": {},
   "outputs": [
    {
     "output_type": "execute_result",
     "data": {
      "text/plain": "    negatives  positives  deaths  positive_rate  new_cases\n0       76719      14559     240       0.159502     1579.0\n1       70874      12980     162       0.154793     1470.0\n2       66261      11510     150       0.147999     1493.0\n3       60013      10017     136       0.143039     1597.0\n4       53695       8420     102       0.135555     1404.0\n5       47698       7016      90       0.128230     1211.0\n6       42427       5805      74       0.120356      962.0\n7       37645       4843      63       0.113985      756.0\n8       33777       4087      48       0.107939      693.0\n9       30061       3394      38       0.101450      643.0\n10      25254       2751      34       0.098232      533.0\n11      21016       2218      22       0.095464      531.0\n12      16441       1687      16       0.093060      560.0\n13      11193       1127      11       0.091477      276.0\n14       8643        851       7       0.089636      207.0\n15       6595        644       6       0.088963      165.0\n16       4964        479       2       0.088003        NaN",
      "text/html": "<div>\n<style scoped>\n    .dataframe tbody tr th:only-of-type {\n        vertical-align: middle;\n    }\n\n    .dataframe tbody tr th {\n        vertical-align: top;\n    }\n\n    .dataframe thead th {\n        text-align: right;\n    }\n</style>\n<table border=\"1\" class=\"dataframe\">\n  <thead>\n    <tr style=\"text-align: right;\">\n      <th></th>\n      <th>negatives</th>\n      <th>positives</th>\n      <th>deaths</th>\n      <th>positive_rate</th>\n      <th>new_cases</th>\n    </tr>\n  </thead>\n  <tbody>\n    <tr>\n      <th>0</th>\n      <td>76719</td>\n      <td>14559</td>\n      <td>240</td>\n      <td>0.159502</td>\n      <td>1579.0</td>\n    </tr>\n    <tr>\n      <th>1</th>\n      <td>70874</td>\n      <td>12980</td>\n      <td>162</td>\n      <td>0.154793</td>\n      <td>1470.0</td>\n    </tr>\n    <tr>\n      <th>2</th>\n      <td>66261</td>\n      <td>11510</td>\n      <td>150</td>\n      <td>0.147999</td>\n      <td>1493.0</td>\n    </tr>\n    <tr>\n      <th>3</th>\n      <td>60013</td>\n      <td>10017</td>\n      <td>136</td>\n      <td>0.143039</td>\n      <td>1597.0</td>\n    </tr>\n    <tr>\n      <th>4</th>\n      <td>53695</td>\n      <td>8420</td>\n      <td>102</td>\n      <td>0.135555</td>\n      <td>1404.0</td>\n    </tr>\n    <tr>\n      <th>5</th>\n      <td>47698</td>\n      <td>7016</td>\n      <td>90</td>\n      <td>0.128230</td>\n      <td>1211.0</td>\n    </tr>\n    <tr>\n      <th>6</th>\n      <td>42427</td>\n      <td>5805</td>\n      <td>74</td>\n      <td>0.120356</td>\n      <td>962.0</td>\n    </tr>\n    <tr>\n      <th>7</th>\n      <td>37645</td>\n      <td>4843</td>\n      <td>63</td>\n      <td>0.113985</td>\n      <td>756.0</td>\n    </tr>\n    <tr>\n      <th>8</th>\n      <td>33777</td>\n      <td>4087</td>\n      <td>48</td>\n      <td>0.107939</td>\n      <td>693.0</td>\n    </tr>\n    <tr>\n      <th>9</th>\n      <td>30061</td>\n      <td>3394</td>\n      <td>38</td>\n      <td>0.101450</td>\n      <td>643.0</td>\n    </tr>\n    <tr>\n      <th>10</th>\n      <td>25254</td>\n      <td>2751</td>\n      <td>34</td>\n      <td>0.098232</td>\n      <td>533.0</td>\n    </tr>\n    <tr>\n      <th>11</th>\n      <td>21016</td>\n      <td>2218</td>\n      <td>22</td>\n      <td>0.095464</td>\n      <td>531.0</td>\n    </tr>\n    <tr>\n      <th>12</th>\n      <td>16441</td>\n      <td>1687</td>\n      <td>16</td>\n      <td>0.093060</td>\n      <td>560.0</td>\n    </tr>\n    <tr>\n      <th>13</th>\n      <td>11193</td>\n      <td>1127</td>\n      <td>11</td>\n      <td>0.091477</td>\n      <td>276.0</td>\n    </tr>\n    <tr>\n      <th>14</th>\n      <td>8643</td>\n      <td>851</td>\n      <td>7</td>\n      <td>0.089636</td>\n      <td>207.0</td>\n    </tr>\n    <tr>\n      <th>15</th>\n      <td>6595</td>\n      <td>644</td>\n      <td>6</td>\n      <td>0.088963</td>\n      <td>165.0</td>\n    </tr>\n    <tr>\n      <th>16</th>\n      <td>4964</td>\n      <td>479</td>\n      <td>2</td>\n      <td>0.088003</td>\n      <td>NaN</td>\n    </tr>\n  </tbody>\n</table>\n</div>"
     },
     "metadata": {},
     "execution_count": 73
    }
   ],
   "source": [
    "new_cases = [p1 - p2 for p1, p2 in zip(df['positives'][:-1], df['positives'][1:])]\n",
    "new_cases.append(np.nan)\n",
    "\n",
    "df['new_cases'] = new_cases\n",
    "df"
   ]
  },
  {
   "cell_type": "markdown",
   "metadata": {},
   "source": [
    "Note the appending of a single `np.nan` to fill out this column.   Next, we compute the growth rate.\n"
   ]
  },
  {
   "cell_type": "code",
   "execution_count": 74,
   "metadata": {},
   "outputs": [
    {
     "output_type": "execute_result",
     "data": {
      "text/plain": "    negatives  positives  deaths  positive_rate  new_cases  \\\n0       76719      14559     240       0.159502     1579.0   \n1       70874      12980     162       0.154793     1470.0   \n2       66261      11510     150       0.147999     1493.0   \n3       60013      10017     136       0.143039     1597.0   \n4       53695       8420     102       0.135555     1404.0   \n5       47698       7016      90       0.128230     1211.0   \n6       42427       5805      74       0.120356      962.0   \n7       37645       4843      63       0.113985      756.0   \n8       33777       4087      48       0.107939      693.0   \n9       30061       3394      38       0.101450      643.0   \n10      25254       2751      34       0.098232      533.0   \n11      21016       2218      22       0.095464      531.0   \n12      16441       1687      16       0.093060      560.0   \n13      11193       1127      11       0.091477      276.0   \n14       8643        851       7       0.089636      207.0   \n15       6595        644       6       0.088963      165.0   \n16       4964        479       2       0.088003        NaN   \n\n    nominal_growth_rate  \n0              0.121649  \n1              0.127715  \n2              0.149047  \n3              0.189667  \n4              0.200114  \n5              0.208613  \n6              0.198637  \n7              0.184977  \n8              0.204184  \n9              0.233733  \n10             0.240307  \n11             0.314760  \n12             0.496894  \n13             0.324324  \n14             0.321429  \n15             0.344468  \n16                  NaN  ",
      "text/html": "<div>\n<style scoped>\n    .dataframe tbody tr th:only-of-type {\n        vertical-align: middle;\n    }\n\n    .dataframe tbody tr th {\n        vertical-align: top;\n    }\n\n    .dataframe thead th {\n        text-align: right;\n    }\n</style>\n<table border=\"1\" class=\"dataframe\">\n  <thead>\n    <tr style=\"text-align: right;\">\n      <th></th>\n      <th>negatives</th>\n      <th>positives</th>\n      <th>deaths</th>\n      <th>positive_rate</th>\n      <th>new_cases</th>\n      <th>nominal_growth_rate</th>\n    </tr>\n  </thead>\n  <tbody>\n    <tr>\n      <th>0</th>\n      <td>76719</td>\n      <td>14559</td>\n      <td>240</td>\n      <td>0.159502</td>\n      <td>1579.0</td>\n      <td>0.121649</td>\n    </tr>\n    <tr>\n      <th>1</th>\n      <td>70874</td>\n      <td>12980</td>\n      <td>162</td>\n      <td>0.154793</td>\n      <td>1470.0</td>\n      <td>0.127715</td>\n    </tr>\n    <tr>\n      <th>2</th>\n      <td>66261</td>\n      <td>11510</td>\n      <td>150</td>\n      <td>0.147999</td>\n      <td>1493.0</td>\n      <td>0.149047</td>\n    </tr>\n    <tr>\n      <th>3</th>\n      <td>60013</td>\n      <td>10017</td>\n      <td>136</td>\n      <td>0.143039</td>\n      <td>1597.0</td>\n      <td>0.189667</td>\n    </tr>\n    <tr>\n      <th>4</th>\n      <td>53695</td>\n      <td>8420</td>\n      <td>102</td>\n      <td>0.135555</td>\n      <td>1404.0</td>\n      <td>0.200114</td>\n    </tr>\n    <tr>\n      <th>5</th>\n      <td>47698</td>\n      <td>7016</td>\n      <td>90</td>\n      <td>0.128230</td>\n      <td>1211.0</td>\n      <td>0.208613</td>\n    </tr>\n    <tr>\n      <th>6</th>\n      <td>42427</td>\n      <td>5805</td>\n      <td>74</td>\n      <td>0.120356</td>\n      <td>962.0</td>\n      <td>0.198637</td>\n    </tr>\n    <tr>\n      <th>7</th>\n      <td>37645</td>\n      <td>4843</td>\n      <td>63</td>\n      <td>0.113985</td>\n      <td>756.0</td>\n      <td>0.184977</td>\n    </tr>\n    <tr>\n      <th>8</th>\n      <td>33777</td>\n      <td>4087</td>\n      <td>48</td>\n      <td>0.107939</td>\n      <td>693.0</td>\n      <td>0.204184</td>\n    </tr>\n    <tr>\n      <th>9</th>\n      <td>30061</td>\n      <td>3394</td>\n      <td>38</td>\n      <td>0.101450</td>\n      <td>643.0</td>\n      <td>0.233733</td>\n    </tr>\n    <tr>\n      <th>10</th>\n      <td>25254</td>\n      <td>2751</td>\n      <td>34</td>\n      <td>0.098232</td>\n      <td>533.0</td>\n      <td>0.240307</td>\n    </tr>\n    <tr>\n      <th>11</th>\n      <td>21016</td>\n      <td>2218</td>\n      <td>22</td>\n      <td>0.095464</td>\n      <td>531.0</td>\n      <td>0.314760</td>\n    </tr>\n    <tr>\n      <th>12</th>\n      <td>16441</td>\n      <td>1687</td>\n      <td>16</td>\n      <td>0.093060</td>\n      <td>560.0</td>\n      <td>0.496894</td>\n    </tr>\n    <tr>\n      <th>13</th>\n      <td>11193</td>\n      <td>1127</td>\n      <td>11</td>\n      <td>0.091477</td>\n      <td>276.0</td>\n      <td>0.324324</td>\n    </tr>\n    <tr>\n      <th>14</th>\n      <td>8643</td>\n      <td>851</td>\n      <td>7</td>\n      <td>0.089636</td>\n      <td>207.0</td>\n      <td>0.321429</td>\n    </tr>\n    <tr>\n      <th>15</th>\n      <td>6595</td>\n      <td>644</td>\n      <td>6</td>\n      <td>0.088963</td>\n      <td>165.0</td>\n      <td>0.344468</td>\n    </tr>\n    <tr>\n      <th>16</th>\n      <td>4964</td>\n      <td>479</td>\n      <td>2</td>\n      <td>0.088003</td>\n      <td>NaN</td>\n      <td>NaN</td>\n    </tr>\n  </tbody>\n</table>\n</div>"
     },
     "metadata": {},
     "execution_count": 74
    }
   ],
   "source": [
    "nominal_growth_rate = [p1 / p2 for p1, p2 in zip(df['new_cases'][:-1], df['positives'][1:])]\n",
    "nominal_growth_rate.append(np.nan)\n",
    "\n",
    "df['nominal_growth_rate'] = nominal_growth_rate\n",
    "df\n",
    ""
   ]
  },
  {
   "cell_type": "markdown",
   "metadata": {},
   "source": [
    "One can certainly see why people are saying the growth rate has gone down!  In fact there seem to be two distinct dips in the growth rate, one occuring at the end of March (roughly two weeks after drastic measures began to be taken in the first counties to be effected), and another one occuring just a few days ago.   However, let us run the same calculations for the daily number of tests being performed."
   ]
  },
  {
   "cell_type": "code",
   "execution_count": 75,
   "metadata": {},
   "outputs": [
    {
     "output_type": "execute_result",
     "data": {
      "text/plain": "    negatives  positives  deaths  positive_rate  new_cases  \\\n0       76719      14559     240       0.159502     1579.0   \n1       70874      12980     162       0.154793     1470.0   \n2       66261      11510     150       0.147999     1493.0   \n3       60013      10017     136       0.143039     1597.0   \n4       53695       8420     102       0.135555     1404.0   \n5       47698       7016      90       0.128230     1211.0   \n6       42427       5805      74       0.120356      962.0   \n7       37645       4843      63       0.113985      756.0   \n8       33777       4087      48       0.107939      693.0   \n9       30061       3394      38       0.101450      643.0   \n10      25254       2751      34       0.098232      533.0   \n11      21016       2218      22       0.095464      531.0   \n12      16441       1687      16       0.093060      560.0   \n13      11193       1127      11       0.091477      276.0   \n14       8643        851       7       0.089636      207.0   \n15       6595        644       6       0.088963      165.0   \n16       4964        479       2       0.088003        NaN   \n\n    nominal_growth_rate  new_tests  testing_growth_rate  \n0              0.121649     7424.0             0.088535  \n1              0.127715     6083.0             0.078217  \n2              0.149047     7741.0             0.110538  \n3              0.189667     7915.0             0.127425  \n4              0.200114     7401.0             0.135267  \n5              0.208613     6482.0             0.134392  \n6              0.198637     5744.0             0.135191  \n7              0.184977     4624.0             0.122121  \n8              0.204184     4409.0             0.131789  \n9              0.233733     5450.0             0.194608  \n10             0.240307     4771.0             0.205346  \n11             0.314760     5106.0             0.281664  \n12             0.496894     5808.0             0.471429  \n13             0.324324     2826.0             0.297662  \n14             0.321429     2255.0             0.311507  \n15             0.344468     1796.0             0.329965  \n16                  NaN        NaN                  NaN  ",
      "text/html": "<div>\n<style scoped>\n    .dataframe tbody tr th:only-of-type {\n        vertical-align: middle;\n    }\n\n    .dataframe tbody tr th {\n        vertical-align: top;\n    }\n\n    .dataframe thead th {\n        text-align: right;\n    }\n</style>\n<table border=\"1\" class=\"dataframe\">\n  <thead>\n    <tr style=\"text-align: right;\">\n      <th></th>\n      <th>negatives</th>\n      <th>positives</th>\n      <th>deaths</th>\n      <th>positive_rate</th>\n      <th>new_cases</th>\n      <th>nominal_growth_rate</th>\n      <th>new_tests</th>\n      <th>testing_growth_rate</th>\n    </tr>\n  </thead>\n  <tbody>\n    <tr>\n      <th>0</th>\n      <td>76719</td>\n      <td>14559</td>\n      <td>240</td>\n      <td>0.159502</td>\n      <td>1579.0</td>\n      <td>0.121649</td>\n      <td>7424.0</td>\n      <td>0.088535</td>\n    </tr>\n    <tr>\n      <th>1</th>\n      <td>70874</td>\n      <td>12980</td>\n      <td>162</td>\n      <td>0.154793</td>\n      <td>1470.0</td>\n      <td>0.127715</td>\n      <td>6083.0</td>\n      <td>0.078217</td>\n    </tr>\n    <tr>\n      <th>2</th>\n      <td>66261</td>\n      <td>11510</td>\n      <td>150</td>\n      <td>0.147999</td>\n      <td>1493.0</td>\n      <td>0.149047</td>\n      <td>7741.0</td>\n      <td>0.110538</td>\n    </tr>\n    <tr>\n      <th>3</th>\n      <td>60013</td>\n      <td>10017</td>\n      <td>136</td>\n      <td>0.143039</td>\n      <td>1597.0</td>\n      <td>0.189667</td>\n      <td>7915.0</td>\n      <td>0.127425</td>\n    </tr>\n    <tr>\n      <th>4</th>\n      <td>53695</td>\n      <td>8420</td>\n      <td>102</td>\n      <td>0.135555</td>\n      <td>1404.0</td>\n      <td>0.200114</td>\n      <td>7401.0</td>\n      <td>0.135267</td>\n    </tr>\n    <tr>\n      <th>5</th>\n      <td>47698</td>\n      <td>7016</td>\n      <td>90</td>\n      <td>0.128230</td>\n      <td>1211.0</td>\n      <td>0.208613</td>\n      <td>6482.0</td>\n      <td>0.134392</td>\n    </tr>\n    <tr>\n      <th>6</th>\n      <td>42427</td>\n      <td>5805</td>\n      <td>74</td>\n      <td>0.120356</td>\n      <td>962.0</td>\n      <td>0.198637</td>\n      <td>5744.0</td>\n      <td>0.135191</td>\n    </tr>\n    <tr>\n      <th>7</th>\n      <td>37645</td>\n      <td>4843</td>\n      <td>63</td>\n      <td>0.113985</td>\n      <td>756.0</td>\n      <td>0.184977</td>\n      <td>4624.0</td>\n      <td>0.122121</td>\n    </tr>\n    <tr>\n      <th>8</th>\n      <td>33777</td>\n      <td>4087</td>\n      <td>48</td>\n      <td>0.107939</td>\n      <td>693.0</td>\n      <td>0.204184</td>\n      <td>4409.0</td>\n      <td>0.131789</td>\n    </tr>\n    <tr>\n      <th>9</th>\n      <td>30061</td>\n      <td>3394</td>\n      <td>38</td>\n      <td>0.101450</td>\n      <td>643.0</td>\n      <td>0.233733</td>\n      <td>5450.0</td>\n      <td>0.194608</td>\n    </tr>\n    <tr>\n      <th>10</th>\n      <td>25254</td>\n      <td>2751</td>\n      <td>34</td>\n      <td>0.098232</td>\n      <td>533.0</td>\n      <td>0.240307</td>\n      <td>4771.0</td>\n      <td>0.205346</td>\n    </tr>\n    <tr>\n      <th>11</th>\n      <td>21016</td>\n      <td>2218</td>\n      <td>22</td>\n      <td>0.095464</td>\n      <td>531.0</td>\n      <td>0.314760</td>\n      <td>5106.0</td>\n      <td>0.281664</td>\n    </tr>\n    <tr>\n      <th>12</th>\n      <td>16441</td>\n      <td>1687</td>\n      <td>16</td>\n      <td>0.093060</td>\n      <td>560.0</td>\n      <td>0.496894</td>\n      <td>5808.0</td>\n      <td>0.471429</td>\n    </tr>\n    <tr>\n      <th>13</th>\n      <td>11193</td>\n      <td>1127</td>\n      <td>11</td>\n      <td>0.091477</td>\n      <td>276.0</td>\n      <td>0.324324</td>\n      <td>2826.0</td>\n      <td>0.297662</td>\n    </tr>\n    <tr>\n      <th>14</th>\n      <td>8643</td>\n      <td>851</td>\n      <td>7</td>\n      <td>0.089636</td>\n      <td>207.0</td>\n      <td>0.321429</td>\n      <td>2255.0</td>\n      <td>0.311507</td>\n    </tr>\n    <tr>\n      <th>15</th>\n      <td>6595</td>\n      <td>644</td>\n      <td>6</td>\n      <td>0.088963</td>\n      <td>165.0</td>\n      <td>0.344468</td>\n      <td>1796.0</td>\n      <td>0.329965</td>\n    </tr>\n    <tr>\n      <th>16</th>\n      <td>4964</td>\n      <td>479</td>\n      <td>2</td>\n      <td>0.088003</td>\n      <td>NaN</td>\n      <td>NaN</td>\n      <td>NaN</td>\n      <td>NaN</td>\n    </tr>\n  </tbody>\n</table>\n</div>"
     },
     "metadata": {},
     "execution_count": 75
    }
   ],
   "source": [
    "total_tests = df['negatives'] + df['positives']\n",
    "\n",
    "new_tests = [p1 - p2 for p1, p2 in zip(total_tests[:-1], total_tests[1:])]\n",
    "new_tests.append(np.nan)\n",
    "\n",
    "testing_growth_rate = [p1 / p2 for p1, p2 in zip(new_tests[:-1], total_tests[1:])]\n",
    "testing_growth_rate.append(np.nan)\n",
    "\n",
    "df['new_tests'], df['testing_growth_rate'] = [new_tests, testing_growth_rate]\n",
    "df"
   ]
  },
  {
   "cell_type": "markdown",
   "metadata": {},
   "source": [
    "Now the data is telling a rather different story, to my eyes.  There is a pretty clear (and obvious) connection between the number of tests performed and the number of new cases reported.  The earlier dip in new cases around the end of March comes hand in hand with a corresponding dip in the number of tests performed--as does the dip that has been on the tip of so many tongues the last few days.  \n",
    "\n",
    "Now, I am curious as to _how_ closely these two numbers correspond.  One way to find out would be to consider the how the rates of change themselves are changing.  Thus\n"
   ]
  },
  {
   "cell_type": "code",
   "execution_count": 76,
   "metadata": {},
   "outputs": [],
   "source": [
    "cases_growth_rate_change = [(p / q) - 1 for p, q in zip(nominal_growth_rate[:-1], nominal_growth_rate[1:])]\n",
    "cases_growth_rate_change.append(np.nan)\n",
    "\n",
    "tests_growth_rate_change = [(p / q) - 1 for p, q in zip(testing_growth_rate[:-1], testing_growth_rate[1:])]\n",
    "tests_growth_rate_change.append(np.nan)\n",
    "\n",
    "df['cases_rate_change'] = cases_growth_rate_change\n",
    "df['tests_rate_change'] = tests_growth_rate_change"
   ]
  },
  {
   "cell_type": "code",
   "execution_count": 78,
   "metadata": {},
   "outputs": [
    {
     "output_type": "execute_result",
     "data": {
      "text/plain": "    negatives  positives  new_cases  nominal_growth_rate  testing_growth_rate  \\\n0       76719      14559     1579.0             0.121649             0.088535   \n1       70874      12980     1470.0             0.127715             0.078217   \n2       66261      11510     1493.0             0.149047             0.110538   \n3       60013      10017     1597.0             0.189667             0.127425   \n4       53695       8420     1404.0             0.200114             0.135267   \n5       47698       7016     1211.0             0.208613             0.134392   \n6       42427       5805      962.0             0.198637             0.135191   \n7       37645       4843      756.0             0.184977             0.122121   \n8       33777       4087      693.0             0.204184             0.131789   \n9       30061       3394      643.0             0.233733             0.194608   \n10      25254       2751      533.0             0.240307             0.205346   \n11      21016       2218      531.0             0.314760             0.281664   \n12      16441       1687      560.0             0.496894             0.471429   \n13      11193       1127      276.0             0.324324             0.297662   \n14       8643        851      207.0             0.321429             0.311507   \n15       6595        644      165.0             0.344468             0.329965   \n16       4964        479        NaN                  NaN                  NaN   \n\n    cases_rate_change  tests_rate_change  \n0           -0.047499           0.131916  \n1           -0.143120          -0.292401  \n2           -0.214169          -0.132522  \n3           -0.052203          -0.057975  \n4           -0.040742           0.006510  \n5            0.050222          -0.005910  \n6            0.073850           0.107023  \n7           -0.094068          -0.073357  \n8           -0.126423          -0.322798  \n9           -0.027354          -0.052290  \n10          -0.236540          -0.270955  \n11          -0.366546          -0.402531  \n12           0.532091           0.583773  \n13           0.009009          -0.044447  \n14          -0.066883          -0.055939  \n15                NaN                NaN  \n16                NaN                NaN  ",
      "text/html": "<div>\n<style scoped>\n    .dataframe tbody tr th:only-of-type {\n        vertical-align: middle;\n    }\n\n    .dataframe tbody tr th {\n        vertical-align: top;\n    }\n\n    .dataframe thead th {\n        text-align: right;\n    }\n</style>\n<table border=\"1\" class=\"dataframe\">\n  <thead>\n    <tr style=\"text-align: right;\">\n      <th></th>\n      <th>negatives</th>\n      <th>positives</th>\n      <th>new_cases</th>\n      <th>nominal_growth_rate</th>\n      <th>testing_growth_rate</th>\n      <th>cases_rate_change</th>\n      <th>tests_rate_change</th>\n    </tr>\n  </thead>\n  <tbody>\n    <tr>\n      <th>0</th>\n      <td>76719</td>\n      <td>14559</td>\n      <td>1579.0</td>\n      <td>0.121649</td>\n      <td>0.088535</td>\n      <td>-0.047499</td>\n      <td>0.131916</td>\n    </tr>\n    <tr>\n      <th>1</th>\n      <td>70874</td>\n      <td>12980</td>\n      <td>1470.0</td>\n      <td>0.127715</td>\n      <td>0.078217</td>\n      <td>-0.143120</td>\n      <td>-0.292401</td>\n    </tr>\n    <tr>\n      <th>2</th>\n      <td>66261</td>\n      <td>11510</td>\n      <td>1493.0</td>\n      <td>0.149047</td>\n      <td>0.110538</td>\n      <td>-0.214169</td>\n      <td>-0.132522</td>\n    </tr>\n    <tr>\n      <th>3</th>\n      <td>60013</td>\n      <td>10017</td>\n      <td>1597.0</td>\n      <td>0.189667</td>\n      <td>0.127425</td>\n      <td>-0.052203</td>\n      <td>-0.057975</td>\n    </tr>\n    <tr>\n      <th>4</th>\n      <td>53695</td>\n      <td>8420</td>\n      <td>1404.0</td>\n      <td>0.200114</td>\n      <td>0.135267</td>\n      <td>-0.040742</td>\n      <td>0.006510</td>\n    </tr>\n    <tr>\n      <th>5</th>\n      <td>47698</td>\n      <td>7016</td>\n      <td>1211.0</td>\n      <td>0.208613</td>\n      <td>0.134392</td>\n      <td>0.050222</td>\n      <td>-0.005910</td>\n    </tr>\n    <tr>\n      <th>6</th>\n      <td>42427</td>\n      <td>5805</td>\n      <td>962.0</td>\n      <td>0.198637</td>\n      <td>0.135191</td>\n      <td>0.073850</td>\n      <td>0.107023</td>\n    </tr>\n    <tr>\n      <th>7</th>\n      <td>37645</td>\n      <td>4843</td>\n      <td>756.0</td>\n      <td>0.184977</td>\n      <td>0.122121</td>\n      <td>-0.094068</td>\n      <td>-0.073357</td>\n    </tr>\n    <tr>\n      <th>8</th>\n      <td>33777</td>\n      <td>4087</td>\n      <td>693.0</td>\n      <td>0.204184</td>\n      <td>0.131789</td>\n      <td>-0.126423</td>\n      <td>-0.322798</td>\n    </tr>\n    <tr>\n      <th>9</th>\n      <td>30061</td>\n      <td>3394</td>\n      <td>643.0</td>\n      <td>0.233733</td>\n      <td>0.194608</td>\n      <td>-0.027354</td>\n      <td>-0.052290</td>\n    </tr>\n    <tr>\n      <th>10</th>\n      <td>25254</td>\n      <td>2751</td>\n      <td>533.0</td>\n      <td>0.240307</td>\n      <td>0.205346</td>\n      <td>-0.236540</td>\n      <td>-0.270955</td>\n    </tr>\n    <tr>\n      <th>11</th>\n      <td>21016</td>\n      <td>2218</td>\n      <td>531.0</td>\n      <td>0.314760</td>\n      <td>0.281664</td>\n      <td>-0.366546</td>\n      <td>-0.402531</td>\n    </tr>\n    <tr>\n      <th>12</th>\n      <td>16441</td>\n      <td>1687</td>\n      <td>560.0</td>\n      <td>0.496894</td>\n      <td>0.471429</td>\n      <td>0.532091</td>\n      <td>0.583773</td>\n    </tr>\n    <tr>\n      <th>13</th>\n      <td>11193</td>\n      <td>1127</td>\n      <td>276.0</td>\n      <td>0.324324</td>\n      <td>0.297662</td>\n      <td>0.009009</td>\n      <td>-0.044447</td>\n    </tr>\n    <tr>\n      <th>14</th>\n      <td>8643</td>\n      <td>851</td>\n      <td>207.0</td>\n      <td>0.321429</td>\n      <td>0.311507</td>\n      <td>-0.066883</td>\n      <td>-0.055939</td>\n    </tr>\n    <tr>\n      <th>15</th>\n      <td>6595</td>\n      <td>644</td>\n      <td>165.0</td>\n      <td>0.344468</td>\n      <td>0.329965</td>\n      <td>NaN</td>\n      <td>NaN</td>\n    </tr>\n    <tr>\n      <th>16</th>\n      <td>4964</td>\n      <td>479</td>\n      <td>NaN</td>\n      <td>NaN</td>\n      <td>NaN</td>\n      <td>NaN</td>\n      <td>NaN</td>\n    </tr>\n  </tbody>\n</table>\n</div>"
     },
     "metadata": {},
     "execution_count": 78
    }
   ],
   "source": [
    " df2 = df[['negatives', 'positives', 'new_cases', \n",
    "           'nominal_growth_rate', 'testing_growth_rate',\n",
    "           'cases_rate_change', \"tests_rate_change\"]]\n",
    "\n",
    "df2"
   ]
  },
  {
   "cell_type": "code",
   "execution_count": null,
   "metadata": {},
   "outputs": [],
   "source": []
  }
 ]
}